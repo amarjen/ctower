{
 "cells": [
  {
   "cell_type": "code",
   "execution_count": 6,
   "id": "contrary-closing",
   "metadata": {},
   "outputs": [],
   "source": [
    "import random\n",
    "import time\n",
    "from ctower.lib.elements import *\n",
    "\n",
    "max_y, max_x = 100,50"
   ]
  },
  {
   "cell_type": "code",
   "execution_count": 8,
   "id": "oriental-diagram",
   "metadata": {},
   "outputs": [],
   "source": [
    "linterns = [ Lintern( y, x ) for y, x in [(random.randint(2, max_y - 5), random.randint(2, max_x - 2)) for i in range(10)] ]"
   ]
  },
  {
   "cell_type": "code",
   "execution_count": 9,
   "id": "peripheral-morris",
   "metadata": {},
   "outputs": [],
   "source": [
    "cannons = [ Cannon( y, x ) for y, x in [(random.randint(2, max_y - 5), random.randint(2, max_x - 2)) for i in range(10)] ]"
   ]
  },
  {
   "cell_type": "code",
   "execution_count": 10,
   "id": "worst-likelihood",
   "metadata": {},
   "outputs": [],
   "source": [
    "mountains = [ Mountain( y, x ) for y, x in [(random.randint(2, max_y - 5), random.randint(2, max_x - 2)) for i in range(10)] ]"
   ]
  },
  {
   "cell_type": "code",
   "execution_count": 11,
   "id": "partial-brief",
   "metadata": {},
   "outputs": [
    {
     "data": {
      "text/plain": [
       "[Mountain(y=41, x=9, kind='Mountain', color=11, symbol='^', fmt=None, deployed=True, visible=True, level=10, health=1000, resource='Gold'),\n",
       " Mountain(y=38, x=29, kind='Mountain', color=11, symbol='^', fmt=None, deployed=True, visible=True, level=10, health=1000, resource='Gold'),\n",
       " Mountain(y=56, x=42, kind='Mountain', color=11, symbol='^', fmt=None, deployed=True, visible=True, level=10, health=1000, resource='Gold'),\n",
       " Mountain(y=12, x=5, kind='Mountain', color=11, symbol='^', fmt=None, deployed=True, visible=True, level=10, health=1000, resource='Gold'),\n",
       " Mountain(y=42, x=2, kind='Mountain', color=11, symbol='^', fmt=None, deployed=True, visible=True, level=10, health=1000, resource='Gold'),\n",
       " Mountain(y=21, x=19, kind='Mountain', color=11, symbol='^', fmt=None, deployed=True, visible=True, level=10, health=1000, resource='Gold'),\n",
       " Mountain(y=94, x=3, kind='Mountain', color=11, symbol='^', fmt=None, deployed=True, visible=True, level=10, health=1000, resource='Gold'),\n",
       " Mountain(y=95, x=20, kind='Mountain', color=11, symbol='^', fmt=None, deployed=True, visible=True, level=10, health=1000, resource='Gold'),\n",
       " Mountain(y=62, x=30, kind='Mountain', color=11, symbol='^', fmt=None, deployed=True, visible=True, level=10, health=1000, resource='Gold'),\n",
       " Mountain(y=71, x=38, kind='Mountain', color=11, symbol='^', fmt=None, deployed=True, visible=True, level=10, health=1000, resource='Gold')]"
      ]
     },
     "execution_count": 11,
     "metadata": {},
     "output_type": "execute_result"
    }
   ],
   "source": [
    "mountains"
   ]
  },
  {
   "cell_type": "code",
   "execution_count": 12,
   "id": "given-worthy",
   "metadata": {},
   "outputs": [],
   "source": [
    "mina = Mine(42,27)"
   ]
  },
  {
   "cell_type": "code",
   "execution_count": 9,
   "id": "capable-universe",
   "metadata": {},
   "outputs": [
    {
     "data": {
      "text/plain": [
       "1"
      ]
     },
     "execution_count": 9,
     "metadata": {},
     "output_type": "execute_result"
    }
   ],
   "source": [
    "mina.distance(mountains[0])"
   ]
  },
  {
   "cell_type": "code",
   "execution_count": 10,
   "id": "flexible-somalia",
   "metadata": {},
   "outputs": [
    {
     "data": {
      "text/plain": [
       "1660808035.2226202"
      ]
     },
     "execution_count": 10,
     "metadata": {},
     "output_type": "execute_result"
    }
   ],
   "source": [
    "mina.clock"
   ]
  },
  {
   "cell_type": "code",
   "execution_count": 11,
   "id": "verified-wages",
   "metadata": {},
   "outputs": [],
   "source": [
    "mina2 = Mine(41,27)"
   ]
  },
  {
   "cell_type": "code",
   "execution_count": 13,
   "id": "alive-employment",
   "metadata": {},
   "outputs": [
    {
     "data": {
      "text/plain": [
       "1"
      ]
     },
     "execution_count": 13,
     "metadata": {},
     "output_type": "execute_result"
    }
   ],
   "source": [
    "mina2.distance(mountains[0])"
   ]
  },
  {
   "cell_type": "code",
   "execution_count": 24,
   "id": "hungarian-listing",
   "metadata": {},
   "outputs": [],
   "source": [
    "minas = [mina, mina2]"
   ]
  },
  {
   "cell_type": "code",
   "execution_count": 19,
   "id": "shared-seeker",
   "metadata": {},
   "outputs": [
    {
     "data": {
      "text/plain": [
       "True"
      ]
     },
     "execution_count": 19,
     "metadata": {},
     "output_type": "execute_result"
    }
   ],
   "source": [
    "mina.kind == 'Mine'"
   ]
  },
  {
   "cell_type": "code",
   "execution_count": 20,
   "id": "authorized-programmer",
   "metadata": {},
   "outputs": [],
   "source": [
    "from itertools import chain"
   ]
  },
  {
   "cell_type": "code",
   "execution_count": 22,
   "id": "immediate-privilege",
   "metadata": {},
   "outputs": [],
   "source": [
    "base = Base(10,10)"
   ]
  },
  {
   "cell_type": "code",
   "execution_count": 31,
   "id": "standard-reserve",
   "metadata": {},
   "outputs": [],
   "source": [
    "b = chain(minas, cannons)"
   ]
  },
  {
   "cell_type": "code",
   "execution_count": 26,
   "id": "toxic-pointer",
   "metadata": {},
   "outputs": [
    {
     "data": {
      "text/plain": [
       "<itertools.chain at 0x7f0d9d286970>"
      ]
     },
     "execution_count": 26,
     "metadata": {},
     "output_type": "execute_result"
    }
   ],
   "source": [
    "b"
   ]
  },
  {
   "cell_type": "code",
   "execution_count": 32,
   "id": "engaged-piece",
   "metadata": {},
   "outputs": [
    {
     "data": {
      "text/plain": [
       "['Mine',\n",
       " 'Mine',\n",
       " 'Cannon',\n",
       " 'Cannon',\n",
       " 'Cannon',\n",
       " 'Cannon',\n",
       " 'Cannon',\n",
       " 'Cannon',\n",
       " 'Cannon',\n",
       " 'Cannon',\n",
       " 'Cannon',\n",
       " 'Cannon']"
      ]
     },
     "execution_count": 32,
     "metadata": {},
     "output_type": "execute_result"
    }
   ],
   "source": [
    "[i.kind for i in b]"
   ]
  },
  {
   "cell_type": "code",
   "execution_count": 42,
   "id": "absent-composition",
   "metadata": {},
   "outputs": [],
   "source": [
    "t = 'a b c d e'.split(' ')"
   ]
  },
  {
   "cell_type": "code",
   "execution_count": 41,
   "id": "genetic-county",
   "metadata": {},
   "outputs": [
    {
     "data": {
      "text/plain": [
       "['a', 'b', 'c', 'd', 'e']"
      ]
     },
     "execution_count": 41,
     "metadata": {},
     "output_type": "execute_result"
    }
   ],
   "source": [
    "t.split(' ')"
   ]
  },
  {
   "cell_type": "code",
   "execution_count": 44,
   "id": "banner-church",
   "metadata": {},
   "outputs": [
    {
     "data": {
      "text/plain": [
       "'a'"
      ]
     },
     "execution_count": 44,
     "metadata": {},
     "output_type": "execute_result"
    }
   ],
   "source": [
    "t[1-1]"
   ]
  },
  {
   "cell_type": "code",
   "execution_count": 53,
   "id": "regional-methodology",
   "metadata": {},
   "outputs": [
    {
     "name": "stdout",
     "output_type": "stream",
     "text": [
      "1 2\n",
      "2 4\n",
      "3 6\n",
      "4 8\n",
      "5 10\n",
      "6 12\n",
      "7 14\n",
      "8 16\n",
      "9 18\n"
     ]
    }
   ],
   "source": [
    "f = 2\n",
    "for i in range(9):\n",
    "    print(i+1, f*(i+1))\n",
    "    f = int(f*1.2)\n",
    "    \n",
    "    "
   ]
  },
  {
   "cell_type": "code",
   "execution_count": 13,
   "id": "numerous-oxygen",
   "metadata": {},
   "outputs": [
    {
     "data": {
      "text/plain": [
       "[Lintern(y=13, x=19, kind='', color=17, symbol='@', fmt=None, deployed=True, visible=True, level=10, health=1000),\n",
       " Lintern(y=95, x=22, kind='', color=17, symbol='@', fmt=None, deployed=True, visible=True, level=10, health=1000),\n",
       " Lintern(y=11, x=33, kind='', color=17, symbol='@', fmt=None, deployed=True, visible=True, level=10, health=1000),\n",
       " Lintern(y=94, x=44, kind='', color=17, symbol='@', fmt=None, deployed=True, visible=True, level=10, health=1000),\n",
       " Lintern(y=78, x=11, kind='', color=17, symbol='@', fmt=None, deployed=True, visible=True, level=10, health=1000),\n",
       " Lintern(y=53, x=24, kind='', color=17, symbol='@', fmt=None, deployed=True, visible=True, level=10, health=1000),\n",
       " Lintern(y=20, x=14, kind='', color=17, symbol='@', fmt=None, deployed=True, visible=True, level=10, health=1000),\n",
       " Lintern(y=26, x=41, kind='', color=17, symbol='@', fmt=None, deployed=True, visible=True, level=10, health=1000),\n",
       " Lintern(y=57, x=22, kind='', color=17, symbol='@', fmt=None, deployed=True, visible=True, level=10, health=1000),\n",
       " Lintern(y=14, x=42, kind='', color=17, symbol='@', fmt=None, deployed=True, visible=True, level=10, health=1000)]"
      ]
     },
     "execution_count": 13,
     "metadata": {},
     "output_type": "execute_result"
    }
   ],
   "source": [
    "linterns"
   ]
  },
  {
   "cell_type": "code",
   "execution_count": 14,
   "id": "packed-japan",
   "metadata": {},
   "outputs": [],
   "source": [
    "from ctower.main import surronding_area"
   ]
  },
  {
   "cell_type": "code",
   "execution_count": null,
   "id": "guided-broad",
   "metadata": {},
   "outputs": [],
   "source": []
  }
 ],
 "metadata": {
  "kernelspec": {
   "display_name": "Python 3 (ipykernel)",
   "language": "python",
   "name": "python3"
  },
  "language_info": {
   "codemirror_mode": {
    "name": "ipython",
    "version": 3
   },
   "file_extension": ".py",
   "mimetype": "text/x-python",
   "name": "python",
   "nbconvert_exporter": "python",
   "pygments_lexer": "ipython3",
   "version": "3.9.2"
  }
 },
 "nbformat": 4,
 "nbformat_minor": 5
}
